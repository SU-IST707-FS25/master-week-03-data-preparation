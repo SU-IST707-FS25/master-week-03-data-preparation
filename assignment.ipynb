{
 "cells": [
  {
   "cell_type": "markdown",
   "id": "daf93d4d",
   "metadata": {},
   "source": [
    "## Introduction\n",
    "\n",
    "For this week, we will use some generated data to practice your ML skills.  The data simulates customer purchase behavior across different product categories.  Your job is to predict the target classes with a classifier.\n",
    "\n",
    "__Target Classes:__ 5 product categories (Electronics, Clothing, Home & Garden, Beauty, Sports & Outdoors).\n",
    "\n",
    "__Features:__\n",
    "\n",
    "- Age: Numeric, representing the age of the customer.\n",
    "- Income: Numeric, representing the yearly income of the customer.\n",
    "- Gender: Categorical, male or female.\n",
    "- Membership_Duration: Numeric, years of being a member of the online store.\n",
    "- Shopping_Frequency: Categorical, frequency of shopping (Weekly, Monthly, Rarely).\n",
    "- Last_Purchase_Amount: Numeric, amount spent in the last purchase.\n",
    "\n",
    "The data can be found in `./data/purchase_data.csv`."
   ]
  },
  {
   "cell_type": "markdown",
   "id": "86acf6ef",
   "metadata": {
    "problem_id": "ex1"
   },
   "source": [
    "#### __Exercise 1__\n",
    "<!-- @q -->\n",
    "\n",
    "Inspect the data - does it have any nulls?  Outliers?  Use a scatter matrix to visualize the numeric data, and examine histograms for the categorical data."
   ]
  },
  {
   "cell_type": "markdown",
   "id": "cef024a6",
   "metadata": {
    "part_id": "ex1-part1"
   },
   "source": [
    "First load the data and look for nulls."
   ]
  },
  {
   "cell_type": "code",
   "execution_count": null,
   "id": "8163a983",
   "metadata": {
    "part_id": "ex1-part1",
    "span": "ex1-part1.code",
    "student": true
   },
   "outputs": [],
   "source": [
    "# Your code here\n"
   ]
  },
  {
   "cell_type": "markdown",
   "id": "5d4ec416",
   "metadata": {
    "part_id": "ex1-part2"
   },
   "source": [
    "Now run a scatter plot matrix."
   ]
  },
  {
   "cell_type": "code",
   "execution_count": null,
   "id": "69a258b3",
   "metadata": {
    "part_id": "ex1-part2",
    "span": "ex1-part2.code",
    "student": true
   },
   "outputs": [],
   "source": [
    "# Your code here\n"
   ]
  },
  {
   "cell_type": "markdown",
   "id": "008d1f81",
   "metadata": {
    "part_id": "ex1-part3"
   },
   "source": [
    "Now plot a bar graph to look at product counts."
   ]
  },
  {
   "cell_type": "code",
   "execution_count": null,
   "id": "ae22bece",
   "metadata": {
    "part_id": "ex1-part3",
    "span": "ex1-part3.code",
    "student": true
   },
   "outputs": [],
   "source": [
    "# Your code here\n"
   ]
  },
  {
   "cell_type": "markdown",
   "id": "edee14fc",
   "metadata": {
    "problem_id": "ex2"
   },
   "source": [
    "#### __Exercise 2__\n",
    "<!-- @q -->\n",
    "\n",
    "Impute your missing data! Use whatever methods you want.  Make sure to check to see that you've eliminated nulls."
   ]
  },
  {
   "cell_type": "code",
   "execution_count": null,
   "id": "eb3e4124",
   "metadata": {
    "part_id": "ex2-part1",
    "span": "ex2-part1.code",
    "student": true
   },
   "outputs": [],
   "source": [
    "# Your code here\n"
   ]
  },
  {
   "cell_type": "markdown",
   "id": "12351db0",
   "metadata": {
    "problem_id": "ex3"
   },
   "source": [
    "#### __Exercise 3__\n",
    "\n",
    "<!-- @q -->\n",
    "\n",
    "Encode your data properly (one-hot encode for features, label encode for targets) and scale your numeric features using a standard scaler."
   ]
  },
  {
   "cell_type": "code",
   "execution_count": null,
   "id": "27278483",
   "metadata": {
    "part_id": "ex3-part1",
    "span": "ex3-part1.code",
    "student": true
   },
   "outputs": [],
   "source": [
    "# Your code here\n"
   ]
  },
  {
   "cell_type": "markdown",
   "id": "d0620481",
   "metadata": {
    "problem_id": "ex4"
   },
   "source": [
    "#### __Exercise 4__\n",
    "\n",
    "<!-- @q --> \n",
    "\n",
    "Note that your classes are imbalanced.  Use SMOTE to rebalance them (_HINT: import SMOTE from `imblearn.over_sampling`_)"
   ]
  },
  {
   "cell_type": "code",
   "execution_count": null,
   "id": "c748e2e1",
   "metadata": {
    "part_id": "ex4-part1",
    "span": "ex4-part1.code",
    "student": true
   },
   "outputs": [],
   "source": [
    "# Your code here\n"
   ]
  },
  {
   "cell_type": "markdown",
   "id": "fbb6adb3",
   "metadata": {
    "problem_id": "ex5"
   },
   "source": [
    "#### __Exercise 5__\n",
    "\n",
    "<!-- @q -->\n",
    "\n",
    "Try modeling with a LogisticRegression.  Use cross validation to evaluate your accuracy and F1-scores for each class, as well as your average performance across all classes."
   ]
  },
  {
   "cell_type": "code",
   "execution_count": null,
   "id": "7a2abe51",
   "metadata": {
    "additional_cells_expected": true,
    "part_id": "ex5-part1",
    "span": "ex5-part1.code",
    "student": true
   },
   "outputs": [],
   "source": [
    "# Your code here\n"
   ]
  },
  {
   "cell_type": "markdown",
   "id": "2fef16bc",
   "metadata": {},
   "source": [
    "#### __Exercise 6__\n",
    "\n",
    "If you've not done so already, place all of your operations in a pipeline.  Note that SMOTE requires a different pipeline class (I've included this for you - use the `make_pipeline` function.) "
   ]
  },
  {
   "cell_type": "code",
   "execution_count": null,
   "id": "e254e89e",
   "metadata": {
    "part_id": "ex5-part1",
    "span": "ex5-part1.fill",
    "student": true
   },
   "outputs": [],
   "source": [
    "# Note that we need to use the pipeline from IMBLearn for this to work\n",
    "from imblearn.pipeline import make_pipeline\n",
    "from imblearn.over_sampling import SMOTE\n",
    "from sklearn.model_selection import cross_validate\n",
    "\n",
    "df = pd.read_csv(\"data/purchase_data.csv\")\n",
    "\n",
    "# Fill in the rest of the code below - use X,y for data and pipeline as the variable for your\n",
    "# pipeline\n",
    "# TODO: Replace with your code (fill)\n",
    "# We're using \"macro\" here so we can evaluate both of our classes - this is unusual for binary targets\n",
    "cross_validate(pipeline,X,y,scoring=['f1_macro'])\n"
   ]
  },
  {
   "cell_type": "markdown",
   "id": "92c3f148",
   "metadata": {
    "part_id": "ex5-part2"
   },
   "source": [
    "Now try running your model with a DecisionTreeClassifier.  Which performs better?"
   ]
  },
  {
   "cell_type": "code",
   "execution_count": null,
   "id": "f221ccae",
   "metadata": {
    "part_id": "ex5-part2",
    "span": "ex5-part2.code",
    "student": true
   },
   "outputs": [],
   "source": [
    "# Your code here\n"
   ]
  },
  {
   "cell_type": "markdown",
   "id": "d04253f4",
   "metadata": {
    "part_id": "ex5-part3"
   },
   "source": [
    "Why do we need to use a different pipeline class when using `SMOTE`?"
   ]
  },
  {
   "cell_type": "markdown",
   "id": "010ec50d",
   "metadata": {
    "part_id": "ex5-part3",
    "span": "ex5-part3.answer",
    "student": true
   },
   "source": [
    "*Enter your answer in this cell*"
   ]
  }
 ],
 "metadata": {
  "kernelspec": {
   "display_name": ".venv",
   "language": "python",
   "name": "python3"
  },
  "language_info": {
   "codemirror_mode": {
    "name": "ipython",
    "version": 3
   },
   "file_extension": ".py",
   "mimetype": "text/x-python",
   "name": "python",
   "nbconvert_exporter": "python",
   "pygments_lexer": "ipython3",
   "version": "3.12.4"
  }
 },
 "nbformat": 4,
 "nbformat_minor": 5
}
